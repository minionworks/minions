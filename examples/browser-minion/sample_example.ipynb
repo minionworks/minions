{
 "cells": [
  {
   "cell_type": "markdown",
   "metadata": {},
   "source": [
    "# Minions Web Scraper Example\n",
    "\n",
    "This notebook demonstrates how to run the Minions Web Scraper."
   ]
  },
  {
   "cell_type": "code",
   "execution_count": 23,
   "metadata": {},
   "outputs": [
    {
     "name": "stdout",
     "output_type": "stream",
     "text": [
      "Processing /Users/amanagarwal/Downloads/minions/dist/minion_agent-0.0.2-py3-none-any.whl\n",
      "Requirement already satisfied: asyncio in /Users/amanagarwal/Downloads/minions/venv/lib/python3.12/site-packages (from minion-agent==0.0.2) (3.4.3)\n",
      "Requirement already satisfied: playwright in /Users/amanagarwal/Downloads/minions/venv/lib/python3.12/site-packages (from minion-agent==0.0.2) (1.51.0)\n",
      "Requirement already satisfied: openai in /Users/amanagarwal/Downloads/minions/venv/lib/python3.12/site-packages (from minion-agent==0.0.2) (1.69.0)\n",
      "Requirement already satisfied: markdownify in /Users/amanagarwal/Downloads/minions/venv/lib/python3.12/site-packages (from minion-agent==0.0.2) (1.1.0)\n",
      "Requirement already satisfied: python-dotenv in /Users/amanagarwal/Downloads/minions/venv/lib/python3.12/site-packages (from minion-agent==0.0.2) (1.1.0)\n",
      "Requirement already satisfied: langchain-core in /Users/amanagarwal/Downloads/minions/venv/lib/python3.12/site-packages (from minion-agent==0.0.2) (0.3.49)\n",
      "Requirement already satisfied: langchain-openai in /Users/amanagarwal/Downloads/minions/venv/lib/python3.12/site-packages (from minion-agent==0.0.2) (0.3.11)\n",
      "Requirement already satisfied: langsmith<0.4,>=0.1.125 in /Users/amanagarwal/Downloads/minions/venv/lib/python3.12/site-packages (from langchain-core->minion-agent==0.0.2) (0.3.19)\n",
      "Requirement already satisfied: tenacity!=8.4.0,<10.0.0,>=8.1.0 in /Users/amanagarwal/Downloads/minions/venv/lib/python3.12/site-packages (from langchain-core->minion-agent==0.0.2) (9.0.0)\n",
      "Requirement already satisfied: jsonpatch<2.0,>=1.33 in /Users/amanagarwal/Downloads/minions/venv/lib/python3.12/site-packages (from langchain-core->minion-agent==0.0.2) (1.33)\n",
      "Requirement already satisfied: PyYAML>=5.3 in /Users/amanagarwal/Downloads/minions/venv/lib/python3.12/site-packages (from langchain-core->minion-agent==0.0.2) (6.0.2)\n",
      "Requirement already satisfied: packaging<25,>=23.2 in /Users/amanagarwal/Downloads/minions/venv/lib/python3.12/site-packages (from langchain-core->minion-agent==0.0.2) (24.2)\n",
      "Requirement already satisfied: typing-extensions>=4.7 in /Users/amanagarwal/Downloads/minions/venv/lib/python3.12/site-packages (from langchain-core->minion-agent==0.0.2) (4.13.0)\n",
      "Requirement already satisfied: pydantic<3.0.0,>=2.7.4 in /Users/amanagarwal/Downloads/minions/venv/lib/python3.12/site-packages (from langchain-core->minion-agent==0.0.2) (2.11.1)\n",
      "Requirement already satisfied: tiktoken<1,>=0.7 in /Users/amanagarwal/Downloads/minions/venv/lib/python3.12/site-packages (from langchain-openai->minion-agent==0.0.2) (0.9.0)\n",
      "Requirement already satisfied: anyio<5,>=3.5.0 in /Users/amanagarwal/Downloads/minions/venv/lib/python3.12/site-packages (from openai->minion-agent==0.0.2) (4.9.0)\n",
      "Requirement already satisfied: distro<2,>=1.7.0 in /Users/amanagarwal/Downloads/minions/venv/lib/python3.12/site-packages (from openai->minion-agent==0.0.2) (1.9.0)\n",
      "Requirement already satisfied: httpx<1,>=0.23.0 in /Users/amanagarwal/Downloads/minions/venv/lib/python3.12/site-packages (from openai->minion-agent==0.0.2) (0.28.1)\n",
      "Requirement already satisfied: jiter<1,>=0.4.0 in /Users/amanagarwal/Downloads/minions/venv/lib/python3.12/site-packages (from openai->minion-agent==0.0.2) (0.9.0)\n",
      "Requirement already satisfied: sniffio in /Users/amanagarwal/Downloads/minions/venv/lib/python3.12/site-packages (from openai->minion-agent==0.0.2) (1.3.1)\n",
      "Requirement already satisfied: tqdm>4 in /Users/amanagarwal/Downloads/minions/venv/lib/python3.12/site-packages (from openai->minion-agent==0.0.2) (4.67.1)\n",
      "Requirement already satisfied: beautifulsoup4<5,>=4.9 in /Users/amanagarwal/Downloads/minions/venv/lib/python3.12/site-packages (from markdownify->minion-agent==0.0.2) (4.13.3)\n",
      "Requirement already satisfied: six<2,>=1.15 in /Users/amanagarwal/Downloads/minions/venv/lib/python3.12/site-packages (from markdownify->minion-agent==0.0.2) (1.17.0)\n",
      "Requirement already satisfied: pyee<13,>=12 in /Users/amanagarwal/Downloads/minions/venv/lib/python3.12/site-packages (from playwright->minion-agent==0.0.2) (12.1.1)\n",
      "Requirement already satisfied: greenlet<4.0.0,>=3.1.1 in /Users/amanagarwal/Downloads/minions/venv/lib/python3.12/site-packages (from playwright->minion-agent==0.0.2) (3.1.1)\n",
      "Requirement already satisfied: idna>=2.8 in /Users/amanagarwal/Downloads/minions/venv/lib/python3.12/site-packages (from anyio<5,>=3.5.0->openai->minion-agent==0.0.2) (3.10)\n",
      "Requirement already satisfied: soupsieve>1.2 in /Users/amanagarwal/Downloads/minions/venv/lib/python3.12/site-packages (from beautifulsoup4<5,>=4.9->markdownify->minion-agent==0.0.2) (2.6)\n",
      "Requirement already satisfied: certifi in /Users/amanagarwal/Downloads/minions/venv/lib/python3.12/site-packages (from httpx<1,>=0.23.0->openai->minion-agent==0.0.2) (2025.1.31)\n",
      "Requirement already satisfied: httpcore==1.* in /Users/amanagarwal/Downloads/minions/venv/lib/python3.12/site-packages (from httpx<1,>=0.23.0->openai->minion-agent==0.0.2) (1.0.7)\n",
      "Requirement already satisfied: h11<0.15,>=0.13 in /Users/amanagarwal/Downloads/minions/venv/lib/python3.12/site-packages (from httpcore==1.*->httpx<1,>=0.23.0->openai->minion-agent==0.0.2) (0.14.0)\n",
      "Requirement already satisfied: jsonpointer>=1.9 in /Users/amanagarwal/Downloads/minions/venv/lib/python3.12/site-packages (from jsonpatch<2.0,>=1.33->langchain-core->minion-agent==0.0.2) (3.0.0)\n",
      "Requirement already satisfied: orjson<4.0.0,>=3.9.14 in /Users/amanagarwal/Downloads/minions/venv/lib/python3.12/site-packages (from langsmith<0.4,>=0.1.125->langchain-core->minion-agent==0.0.2) (3.10.16)\n",
      "Requirement already satisfied: requests<3,>=2 in /Users/amanagarwal/Downloads/minions/venv/lib/python3.12/site-packages (from langsmith<0.4,>=0.1.125->langchain-core->minion-agent==0.0.2) (2.32.3)\n",
      "Requirement already satisfied: requests-toolbelt<2.0.0,>=1.0.0 in /Users/amanagarwal/Downloads/minions/venv/lib/python3.12/site-packages (from langsmith<0.4,>=0.1.125->langchain-core->minion-agent==0.0.2) (1.0.0)\n",
      "Requirement already satisfied: zstandard<0.24.0,>=0.23.0 in /Users/amanagarwal/Downloads/minions/venv/lib/python3.12/site-packages (from langsmith<0.4,>=0.1.125->langchain-core->minion-agent==0.0.2) (0.23.0)\n",
      "Requirement already satisfied: annotated-types>=0.6.0 in /Users/amanagarwal/Downloads/minions/venv/lib/python3.12/site-packages (from pydantic<3.0.0,>=2.7.4->langchain-core->minion-agent==0.0.2) (0.7.0)\n",
      "Requirement already satisfied: pydantic-core==2.33.0 in /Users/amanagarwal/Downloads/minions/venv/lib/python3.12/site-packages (from pydantic<3.0.0,>=2.7.4->langchain-core->minion-agent==0.0.2) (2.33.0)\n",
      "Requirement already satisfied: typing-inspection>=0.4.0 in /Users/amanagarwal/Downloads/minions/venv/lib/python3.12/site-packages (from pydantic<3.0.0,>=2.7.4->langchain-core->minion-agent==0.0.2) (0.4.0)\n",
      "Requirement already satisfied: regex>=2022.1.18 in /Users/amanagarwal/Downloads/minions/venv/lib/python3.12/site-packages (from tiktoken<1,>=0.7->langchain-openai->minion-agent==0.0.2) (2024.11.6)\n",
      "Requirement already satisfied: charset-normalizer<4,>=2 in /Users/amanagarwal/Downloads/minions/venv/lib/python3.12/site-packages (from requests<3,>=2->langsmith<0.4,>=0.1.125->langchain-core->minion-agent==0.0.2) (3.4.1)\n",
      "Requirement already satisfied: urllib3<3,>=1.21.1 in /Users/amanagarwal/Downloads/minions/venv/lib/python3.12/site-packages (from requests<3,>=2->langsmith<0.4,>=0.1.125->langchain-core->minion-agent==0.0.2) (2.3.0)\n",
      "Installing collected packages: minion-agent\n",
      "Successfully installed minion-agent-0.0.2\n",
      "\n",
      "\u001b[1m[\u001b[0m\u001b[34;49mnotice\u001b[0m\u001b[1;39;49m]\u001b[0m\u001b[39;49m A new release of pip is available: \u001b[0m\u001b[31;49m24.2\u001b[0m\u001b[39;49m -> \u001b[0m\u001b[32;49m25.0.1\u001b[0m\n",
      "\u001b[1m[\u001b[0m\u001b[34;49mnotice\u001b[0m\u001b[1;39;49m]\u001b[0m\u001b[39;49m To update, run: \u001b[0m\u001b[32;49mpip install --upgrade pip\u001b[0m\n"
     ]
    }
   ],
   "source": [
    "!pip install minion-agent"
   ]
  },
  {
   "cell_type": "code",
   "execution_count": 31,
   "metadata": {},
   "outputs": [
    {
     "name": "stderr",
     "output_type": "stream",
     "text": [
      "INFO: HTTP Request: POST https://api.openai.com/v1/chat/completions \"HTTP/1.1 200 OK\"\n",
      "INFO: Refined search query: Cheena Kachroo biography\n",
      "INFO: Searched for \"Cheena Kachroo biography\" on Google. Found 10 results.\n",
      "INFO: Processing URL 1/10: https://in.linkedin.com/in/cheena-kachroo-414394184\n",
      "INFO: Navigated to https://in.linkedin.com/in/cheena-kachroo-414394184\n",
      "WARNING: Error using selector 'div#main': Page.query_selector: Execution context was destroyed, most likely because of a navigation\n",
      "WARNING: No content element found with common selectors; using full page content.\n",
      "INFO: HTTP Request: POST https://api.openai.com/v1/chat/completions \"HTTP/1.1 200 OK\"\n",
      "INFO: Function 'extract_content_result' called with arguments: {'action': 'next_url'}\n",
      "INFO: Processing URL 2/10: https://www.weekday.works/people/cheena-kachroo-cheena-kachroo-414394184\n",
      "INFO: Navigated to https://www.weekday.works/people/cheena-kachroo-cheena-kachroo-414394184\n",
      "INFO: Found content using selector 'main'\n",
      "INFO: HTTP Request: POST https://api.openai.com/v1/chat/completions \"HTTP/1.1 200 OK\"\n",
      "INFO: Function 'extract_content_result' called with arguments: {'action': 'next_url'}\n",
      "INFO: Processing URL 3/10: https://www.goodreads.com/user/show/119947702-cheena-kachroo\n",
      "INFO: Navigated to https://www.goodreads.com/user/show/119947702-cheena-kachroo\n",
      "INFO: Found content using selector 'div.content'\n",
      "INFO: HTTP Request: POST https://api.openai.com/v1/chat/completions \"HTTP/1.1 200 OK\"\n",
      "INFO: Function 'extract_content_result' called with arguments: {'action': 'next_url'}\n",
      "INFO: Processing URL 4/10: https://cheenakachroo.blogspot.com/\n",
      "INFO: Navigated to https://cheenakachroo.blogspot.com/\n",
      "WARNING: No content element found with common selectors; using full page content.\n",
      "INFO: HTTP Request: POST https://api.openai.com/v1/chat/completions \"HTTP/1.1 200 OK\"\n",
      "INFO: Function 'extract_content_result' called with arguments: {'action': 'next_url'}\n",
      "INFO: Processing URL 5/10: https://www.instagram.com/blogger_cheena2/p/CJ_b5wylwzL/\n",
      "INFO: Navigated to https://www.instagram.com/blogger_cheena2/p/CJ_b5wylwzL/\n",
      "INFO: Found content using selector 'main'\n",
      "WARNING: No content element found with common selectors; using full page content.\n",
      "INFO: HTTP Request: POST https://api.openai.com/v1/chat/completions \"HTTP/1.1 200 OK\"\n",
      "INFO: Function 'extract_content_result' called with arguments: {'action': 'next_url'}\n",
      "INFO: Processing URL 6/10: https://www.amazon.in/gp/customer-reviews/R1AWAC9QFKTHKF?ASIN=B09BXB8BZY\n",
      "INFO: Navigated to https://www.amazon.in/gp/customer-reviews/R1AWAC9QFKTHKF?ASIN=B09BXB8BZY\n",
      "WARNING: No content element found with common selectors; using full page content.\n",
      "INFO: HTTP Request: POST https://api.openai.com/v1/chat/completions \"HTTP/1.1 200 OK\"\n",
      "INFO: Function 'extract_content_result' called with arguments: {'action': 'next_url'}\n",
      "INFO: Processing URL 7/10: https://epaperimages.blob.core.windows.net/statetimes/files/10202090415963.pdf\n",
      "ERROR: Navigation to https://epaperimages.blob.core.windows.net/statetimes/files/10202090415963.pdf failed: Page.goto: net::ERR_ABORTED at https://epaperimages.blob.core.windows.net/statetimes/files/10202090415963.pdf\n",
      "Call log:\n",
      "  - navigating to \"https://epaperimages.blob.core.windows.net/statetimes/files/10202090415963.pdf\", waiting until \"load\"\n",
      "\n",
      "ERROR: Navigation error for https://epaperimages.blob.core.windows.net/statetimes/files/10202090415963.pdf: Page.goto: net::ERR_ABORTED at https://epaperimages.blob.core.windows.net/statetimes/files/10202090415963.pdf\n",
      "Call log:\n",
      "  - navigating to \"https://epaperimages.blob.core.windows.net/statetimes/files/10202090415963.pdf\", waiting until \"load\"\n",
      ". Attempting to go back and skip.\n",
      "INFO: Went back successfully.\n",
      "INFO: Processing URL 8/10: https://github.com/Kachroo-cheena/blog-post\n",
      "INFO: Navigated to https://github.com/Kachroo-cheena/blog-post\n",
      "INFO: Found content using selector 'main'\n",
      "INFO: HTTP Request: POST https://api.openai.com/v1/chat/completions \"HTTP/1.1 200 OK\"\n",
      "INFO: Function 'extract_content_result' called with arguments: {'action': 'next_url'}\n",
      "INFO: Processing URL 9/10: https://www.rajdhanicollege.ac.in/upload_files/notice_circular/raka-2020compressed-1_1_5fc21ecc3a796_16065573882395.pdf\n",
      "ERROR: Navigation to https://www.rajdhanicollege.ac.in/upload_files/notice_circular/raka-2020compressed-1_1_5fc21ecc3a796_16065573882395.pdf failed: Page.goto: net::ERR_ABORTED at https://www.rajdhanicollege.ac.in/upload_files/notice_circular/raka-2020compressed-1_1_5fc21ecc3a796_16065573882395.pdf\n",
      "Call log:\n",
      "  - navigating to \"https://www.rajdhanicollege.ac.in/upload_files/notice_circular/raka-2020compressed-1_1_5fc21ecc3a796_16065573882395.pdf\", waiting until \"load\"\n",
      "\n",
      "ERROR: Navigation error for https://www.rajdhanicollege.ac.in/upload_files/notice_circular/raka-2020compressed-1_1_5fc21ecc3a796_16065573882395.pdf: Page.goto: net::ERR_ABORTED at https://www.rajdhanicollege.ac.in/upload_files/notice_circular/raka-2020compressed-1_1_5fc21ecc3a796_16065573882395.pdf\n",
      "Call log:\n",
      "  - navigating to \"https://www.rajdhanicollege.ac.in/upload_files/notice_circular/raka-2020compressed-1_1_5fc21ecc3a796_16065573882395.pdf\", waiting until \"load\"\n",
      ". Attempting to go back and skip.\n",
      "INFO: Went back successfully.\n",
      "INFO: Processing URL 10/10: https://gurushala.co/user/detail/NzExMjI3\n",
      "INFO: Navigated to https://gurushala.co/user/detail/NzExMjI3\n",
      "WARNING: No content element found with common selectors; using full page content.\n",
      "INFO: HTTP Request: POST https://api.openai.com/v1/chat/completions \"HTTP/1.1 200 OK\"\n",
      "INFO: Function 'extract_content_result' called with arguments: {'action': 'next_url'}\n",
      "INFO: No next page found.\n",
      "INFO: No further search results available.\n",
      "INFO: Final output: Scraper finished execution without a final outcome.\n"
     ]
    }
   ],
   "source": [
    "from minion_agent.browser import MinionAgent\n",
    "import asyncio\n",
    "from langchain_openai import ChatOpenAI\n",
    "from dotenv import load_dotenv\n",
    "load_dotenv()\n",
    "\n",
    "agent = MinionAgent(\n",
    "        task=\"List all the YC backed companies for the year 2024\",\n",
    "        llm=ChatOpenAI(model=\"gpt-4o\"),\n",
    "        headless=True\n",
    "    )\n",
    "\n",
    "\n",
    "results = await agent.run()\n"
   ]
  },
  {
   "cell_type": "code",
   "execution_count": null,
   "metadata": {},
   "outputs": [],
   "source": [
    "#EXAMPLE-1\n",
    "\n",
    "user_prompt = \"What is the CPI index of all states for year 2025? Give me the report in JSON format\"\n"
   ]
  },
  {
   "cell_type": "code",
   "execution_count": null,
   "metadata": {},
   "outputs": [],
   "source": [
    "#EXAMPLE-2\n",
    "\n",
    "user_prompt= \"List all the YC backed companies for the year 2024\""
   ]
  },
  {
   "cell_type": "code",
   "execution_count": null,
   "metadata": {},
   "outputs": [],
   "source": [
    "#EXAMPLE-3\n",
    "\n",
    "user_prompt = \"How can i convert Lecture Recordings to notes?\"\n"
   ]
  },
  {
   "cell_type": "code",
   "execution_count": null,
   "metadata": {},
   "outputs": [],
   "source": [
    "#EXAMPLE-4\n",
    "\n",
    "user_prompt = \"How much percent increase in gold price has happen in the last 2 years india\"\n"
   ]
  },
  {
   "cell_type": "code",
   "execution_count": null,
   "metadata": {},
   "outputs": [],
   "source": [
    "#EXAMPLE-5\n",
    "\n",
    "user_prompt = \"Inflation rate in 2024 India?\""
   ]
  }
 ],
 "metadata": {
  "kernelspec": {
   "display_name": "venv",
   "language": "python",
   "name": "python3"
  },
  "language_info": {
   "codemirror_mode": {
    "name": "ipython",
    "version": 3
   },
   "file_extension": ".py",
   "mimetype": "text/x-python",
   "name": "python",
   "nbconvert_exporter": "python",
   "pygments_lexer": "ipython3",
   "version": "3.12.7"
  }
 },
 "nbformat": 4,
 "nbformat_minor": 2
}
